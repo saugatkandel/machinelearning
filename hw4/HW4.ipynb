{
 "cells": [
  {
   "cell_type": "markdown",
   "metadata": {},
   "source": [
    "# Optimization for machine/deep learning: homework 4"
   ]
  },
  {
   "cell_type": "markdown",
   "metadata": {},
   "source": [
    "Complete the exercises listed below in this Jupyter notebook - leaving all of your code in Python cells in the notebook itself.  Feel free to add any necessary cells.  \n",
    "\n",
    "Included with the notebook are \n",
    "\n",
    "- datasets `breast_cancer_data.csv`  and `student_debt.csv` \n",
    "\n",
    "\n",
    "be sure you have these files located in the same directory where you put this notebook!"
   ]
  },
  {
   "cell_type": "markdown",
   "metadata": {},
   "source": [
    "### General instructions"
   ]
  },
  {
   "cell_type": "markdown",
   "metadata": {},
   "source": [
    "Complete the exercises listed below in this Jupyter notebook - leaving all of your code in Python cells in the notebook itself.  Feel free to add any necessary cells."
   ]
  },
  {
   "cell_type": "code",
   "execution_count": 2,
   "metadata": {
    "collapsed": true
   },
   "outputs": [],
   "source": [
    "########## useful imports ###########\n",
    "# the next three lines allow you to easily make plots in notebook, and use a nice renderer (for prettier pictures)\n",
    "%matplotlib inline\n",
    "#from matplotlib import rcParams\n",
    "#rcParams['figure.autolayout'] = True\n",
    "\n",
    "# import some standard libraries\n",
    "import autograd.numpy as np   \n",
    "import matplotlib.pyplot as plt\n",
    "import copy   "
   ]
  },
  {
   "cell_type": "markdown",
   "metadata": {},
   "source": [
    "# Getting to know autograd"
   ]
  },
  {
   "cell_type": "markdown",
   "metadata": {},
   "source": [
    "If you have not yet, make sure to pip-install the automatic differentiator [autograd](https://github.com/HIPS/autograd) - you can install this package via your terminal by typing \n",
    "\n",
    "``pip install autograd``\n",
    "\n",
    "This is a professionally developed automatic differentiator we will use here for Newton's method, as well as for other algorithms in the course."
   ]
  },
  {
   "cell_type": "markdown",
   "metadata": {},
   "source": [
    "## Testing autograd"
   ]
  },
  {
   "cell_type": "markdown",
   "metadata": {},
   "source": [
    "Time to add in a powerful gradient calculator that works well with the numpy library.  [Click here to view the github repo](https://github.com/HIPS/autograd) - download its contents to your machine. "
   ]
  },
  {
   "cell_type": "markdown",
   "metadata": {},
   "source": [
    "When using autograd for automatic differentiation, be sure to employ autograd's version of numpy - so that the automatic differentiator can correctly parse your input functions."
   ]
  },
  {
   "cell_type": "code",
   "execution_count": 3,
   "metadata": {
    "collapsed": true
   },
   "outputs": [],
   "source": [
    "# import statement for autograd wrapped numpy\n",
    "import autograd.numpy as np   "
   ]
  },
  {
   "cell_type": "markdown",
   "metadata": {},
   "source": [
    "There are two standard ways of defining functions in Python.  First the the standard named Python function like below"
   ]
  },
  {
   "cell_type": "code",
   "execution_count": 4,
   "metadata": {
    "collapsed": true
   },
   "outputs": [],
   "source": [
    "# a named Python function\n",
    "def sin(w):\n",
    "    return np.sin(w)"
   ]
  },
  {
   "cell_type": "markdown",
   "metadata": {},
   "source": [
    "WIth this declaration Python now understands 'sin' as its own function, so it can be called as follows."
   ]
  },
  {
   "cell_type": "code",
   "execution_count": 5,
   "metadata": {},
   "outputs": [
    {
     "name": "stdout",
     "output_type": "stream",
     "text": [
      "0.841470984808\n"
     ]
    }
   ],
   "source": [
    "# how to use the 'sin' function\n",
    "w_val = 1.0   # a test input for our 'sin' function\n",
    "g_val = sin(w_val)\n",
    "print (g_val)"
   ]
  },
  {
   "cell_type": "markdown",
   "metadata": {},
   "source": [
    "You can also create 'anonymous' functions in Python (functions unconnected to a name) by using the ``lambda`` command.  We can produce the same function using lambda as shown below."
   ]
  },
  {
   "cell_type": "code",
   "execution_count": 6,
   "metadata": {
    "collapsed": true
   },
   "outputs": [],
   "source": [
    "# how to use 'lambda' to create an anonymous function\n",
    "g = lambda w: np.sin(w)"
   ]
  },
  {
   "cell_type": "markdown",
   "metadata": {},
   "source": [
    "We can then use it with a test value as shown below."
   ]
  },
  {
   "cell_type": "code",
   "execution_count": 7,
   "metadata": {},
   "outputs": [
    {
     "name": "stdout",
     "output_type": "stream",
     "text": [
      "0.841470984808\n"
     ]
    }
   ],
   "source": [
    "# how to use the 'sin' function\n",
    "w_val = 1.0   # a test input for our 'sin' function\n",
    "g_val = g(w_val)\n",
    "print (g_val)"
   ]
  },
  {
   "cell_type": "markdown",
   "metadata": {},
   "source": [
    "We can visualize this function by using ``matplotlib`` assets, as shown below.  "
   ]
  },
  {
   "cell_type": "code",
   "execution_count": 8,
   "metadata": {
    "collapsed": true
   },
   "outputs": [],
   "source": [
    "# the import statement for matplotlib\n",
    "import matplotlib.pyplot as plt"
   ]
  },
  {
   "cell_type": "code",
   "execution_count": 9,
   "metadata": {},
   "outputs": [
    {
     "data": {
      "image/png": "[encoded data removed]",
      "text/plain": [
       "<matplotlib.figure.Figure at 0x7f9321fd84e0>"
      ]
     },
     "metadata": {},
     "output_type": "display_data"
    }
   ],
   "source": [
    "# create a sample of points to plot over \n",
    "w_vals = np.linspace(-5,5,200)\n",
    "\n",
    "# evaluate the function over each of these values - one can use an explicit for-loop here instead of a list comprehension\n",
    "g_vals = [g(v) for v in w_vals]\n",
    "\n",
    "# plot\n",
    "fig, ax = plt.subplots(1, 1, figsize=(6,3))\n",
    "ax.plot(w_vals,g_vals)\n",
    "plt.show()"
   ]
  },
  {
   "cell_type": "markdown",
   "metadata": {},
   "source": [
    "Using autograd we can then compute the gradient function here.  We show the proper import statement and manner of using this calculator below.Mm"
   ]
  },
  {
   "cell_type": "code",
   "execution_count": 10,
   "metadata": {
    "collapsed": true
   },
   "outputs": [],
   "source": [
    "# import statment for gradient calculator\n",
    "from autograd import grad    "
   ]
  },
  {
   "cell_type": "code",
   "execution_count": 11,
   "metadata": {
    "collapsed": true
   },
   "outputs": [],
   "source": [
    "# create the gradient function of g --> nabla_g\n",
    "nabla_g = grad(g)"
   ]
  },
  {
   "cell_type": "markdown",
   "metadata": {},
   "source": [
    "The gradient function can be evaluated like the original - as shown in the next cell."
   ]
  },
  {
   "cell_type": "code",
   "execution_count": 12,
   "metadata": {},
   "outputs": [
    {
     "data": {
      "text/plain": [
       "0.54030230586813977"
      ]
     },
     "execution_count": 12,
     "metadata": {},
     "output_type": "execute_result"
    }
   ],
   "source": [
    "# evaluate the gradient function at a point\n",
    "w_val = 1.0\n",
    "nabla_g(1.0)"
   ]
  },
  {
   "cell_type": "markdown",
   "metadata": {},
   "source": [
    "Now we can plot the gradient along with the original function, which we do in the next cell."
   ]
  },
  {
   "cell_type": "code",
   "execution_count": 13,
   "metadata": {},
   "outputs": [
    {
     "data": {
      "image/png": "[encoded data removed]",
      "text/plain": [
       "<matplotlib.figure.Figure at 0x7f931610c160>"
      ]
     },
     "metadata": {},
     "output_type": "display_data"
    }
   ],
   "source": [
    "# create space over which to evaluate function and gradient\n",
    "w_vals = np.linspace(-5,5,200)\n",
    "\n",
    "# evaluate gradient over input range\n",
    "g_vals = [g(v) for v in w_vals]\n",
    "grad_vals = [nabla_g(v) for v in w_vals]\n",
    "\n",
    "# create figure\n",
    "fig, ax = plt.subplots(1, 1, figsize=(6,3))\n",
    "\n",
    "# plot function and gradient values\n",
    "ax.plot(w_vals,g_vals)\n",
    "ax.plot(w_vals,grad_vals)\n",
    "ax.legend(['func','derivative'],loc='center left', bbox_to_anchor=(1, 0.5))\n",
    "plt.show()"
   ]
  },
  {
   "cell_type": "markdown",
   "metadata": {},
   "source": [
    "---"
   ]
  },
  {
   "cell_type": "markdown",
   "metadata": {},
   "source": [
    "#### <span style=\"color:#a50e3e;\">Exercise 1. </span>   Study Newton's method notes and make a standard modification to the code"
   ]
  },
  {
   "cell_type": "markdown",
   "metadata": {},
   "source": [
    "The following Newton's method code was copied from the [coures notes Section 1.3](https://jermwatt.github.io/mlrefined/blog_posts/Mathematical_Optimization/Part_5_Newtons_method.html), make sure you review these notes prior to completing the homework.\n",
    "\n",
    "We will be using this for the remainder of the experiments.  Adjust the Newton's method code below to return not the best set of weights, but the entire weight history."
   ]
  },
  {
   "cell_type": "code",
   "execution_count": 14,
   "metadata": {
    "collapsed": true
   },
   "outputs": [],
   "source": [
    "# import autograd functionality\n",
    "from autograd import grad\n",
    "from autograd import hessian\n",
    "\n",
    "# run newton's method - input: function ('g'), initial point ('w'), maximum number of iterations ('max_its')\n",
    "def newtons_method(g,w_init,max_its,epsilon):\n",
    "    # check that initial point is float (for autograd)\n",
    "    if np.size(w_init) == 1:\n",
    "        w = np.asarray(float(w_init))\n",
    "    else:\n",
    "        w = np.asarray([float(s) for s in w_init])\n",
    "        w.shape = np.shape(w_init)\n",
    "        \n",
    "    # Compute gradient and Hessian functions for input function\n",
    "    g_grad = grad(g)              # gradient of input function\n",
    "    g_hess = hessian(g)           # hessian of input function\n",
    "    \n",
    "    # Newton's loop\n",
    "    weight_history = [w]           \n",
    "    for k in range(max_its):\n",
    "        # evluate current point with gradient and hessian\n",
    "        grad_eval = g_grad(w)\n",
    "        hess_eval = g_hess(w)\n",
    "\n",
    "        # solve linear system for weights: setup system Aw = b, make sure A is correct shape (for use of np.linalg)\n",
    "        A = hess_eval\n",
    "        A.shape = (int((np.size(A))**(0.5)),int((np.size(A))**(0.5)))\n",
    "        \n",
    "        # add epsilon weighted diagonal to avoid any problems at flat regions\n",
    "        A += epsilon*np.eye(np.size(w))\n",
    "        \n",
    "        # form b - our system: Aw = b\n",
    "        b = np.dot(A,w) - grad_eval\n",
    "        \n",
    "        # solve for w\n",
    "        w = np.linalg.solve(A,b)\n",
    "\n",
    "        # record weight in history\n",
    "        weight_history.append(w)\n",
    "    return np.asarray(weight_history)"
   ]
  },
  {
   "cell_type": "markdown",
   "metadata": {},
   "source": [
    "#### <span style=\"color:#a50e3e;\">Exercise 2. </span>   Newton's method for linear regression"
   ]
  },
  {
   "cell_type": "markdown",
   "metadata": {},
   "source": [
    "In our discussion of Newton's method we discussed how a single Newton step can solve the linear regression problem (you remember why?).  Here we will put that assertion to the test using a real dataset containing U.S. student debt data.  Here the input is in increments of time, and the output is the corresponding total amount of student debt held in the United States."
   ]
  },
  {
   "cell_type": "code",
   "execution_count": 15,
   "metadata": {},
   "outputs": [
    {
     "data": {
      "image/png": "[encoded data removed]",
      "text/plain": [
       "<matplotlib.figure.Figure at 0x7f931618aeb8>"
      ]
     },
     "metadata": {},
     "output_type": "display_data"
    }
   ],
   "source": [
    "# import plotting library\n",
    "import matplotlib.pyplot as plt\n",
    "\n",
    "# load in dataset\n",
    "data = np.loadtxt('student_debt.csv',delimiter = ',')\n",
    "\n",
    "# form the input/output data vectors\n",
    "x = data[:,:-1]\n",
    "y = data[:,-1:]\n",
    "\n",
    "# plot the data\n",
    "fig, ax = plt.subplots(1, 1, figsize=(4,4))\n",
    "ax.scatter(x,y,color = 'k',edgecolor = 'w')\n",
    "ax.set_xlabel('time')\n",
    "ax.set_ylabel('total student debt (in billions of $)')\n",
    "plt.show()"
   ]
  },
  {
   "cell_type": "markdown",
   "metadata": {},
   "source": [
    "Your job: use Newton's method and fit a line by tuning its parameters using a single Newton step.  A compact (written using ``Numpy``) least squares cost function is provided for you in the next cell."
   ]
  },
  {
   "cell_type": "code",
   "execution_count": 16,
   "metadata": {
    "collapsed": true
   },
   "outputs": [],
   "source": [
    "# a compact Least Squares cost function for linear regression\n",
    "least_squares = lambda w: np.sum((w[0] + w[1]*x - y)**2)"
   ]
  },
  {
   "cell_type": "markdown",
   "metadata": {},
   "source": [
    "Below is little code block for scattering the data and fitting a line with weights $w_0$ and $w_1$.  You can use this to visualize the fit learned by Newton's method."
   ]
  },
  {
   "cell_type": "code",
   "execution_count": 17,
   "metadata": {},
   "outputs": [
    {
     "data": {
      "image/png": "[encoded data removed]",
      "text/plain": [
       "<matplotlib.figure.Figure at 0x7f93160869b0>"
      ]
     },
     "metadata": {},
     "output_type": "display_data"
    }
   ],
   "source": [
    "# our initial weights\n",
    "w_init = 0.1*np.random.randn(2,1)\n",
    "weights_history = newtons_method(least_squares, w_init, 1, 1e-7)\n",
    "w = weights_history[-1]\n",
    "# scatter plot the input data\n",
    "fig, ax = plt.subplots(1, 1, figsize=(4,4))\n",
    "ax.scatter(data[:,0],data[:,1],color = 'k',edgecolor = 'w')\n",
    "\n",
    "# fit a trend line\n",
    "x_vals = np.linspace(min(x),max(x),200)\n",
    "y_vals = w[0] + w[1]*x_vals\n",
    "ax.plot(x_vals,y_vals,color = 'r')\n",
    "plt.show()"
   ]
  },
  {
   "cell_type": "markdown",
   "metadata": {},
   "source": [
    "#### <span style=\"color:#a50e3e;\">Exercise 3. </span>   Perform two-class linear classification on a toy dataset"
   ]
  },
  {
   "cell_type": "markdown",
   "metadata": {},
   "source": [
    "Now we will use Newton's method to perform 2-class classification via logistic regression (i.e., using the softmax cost).  The notes we used for class on this subject [can be found here](https://jermwatt.github.io/mlrefined/blog_posts/Linear_Supervised_Learning/Part_2_logistic_regression.html).  A compact softmax cost function - employing ``Numpy`` - is provided below."
   ]
  },
  {
   "cell_type": "code",
   "execution_count": 18,
   "metadata": {
    "collapsed": true
   },
   "outputs": [],
   "source": [
    "# a pithy softmax cost implementation\n",
    "softmax = lambda w: np.sum(np.log(1 + np.exp((-y)*(w[0] + np.dot(x,w[1:])))))"
   ]
  },
  {
   "cell_type": "markdown",
   "metadata": {},
   "source": [
    "Use Newton's method to tune the softmax cost function to classify healthy from cancerous tissue using the dataset located in `breast_cancer_data.csv`.  You can examine the description of this dataset [here](https://archive.ics.uci.edu/ml/datasets/Breast+Cancer+Wisconsin+(Diagnostic)). \n",
    "\n",
    "There are $N = 8$ input dimensions to the input of this dataset (these are the first $N = 8$ columns of the breast_cancer_data.csv, the last column are the associated labels).  Fit using Newton's method using a maximum of 10 iterations.  You should be able to reach a point on the surface where you misclassify less than 30 examples (that is, your model at worst incorrectly identifies 30 examples).  You can use the plotting function ``plot_history`` to visualize the cost function and misclassification rate history of your run of Newton's method.\n",
    "\n",
    "All you need to do is run your adjusted Newton's method code on this dataset, get the corresponding weight history, and the ``plot_history`` function will do the rest (i.e., compute the misclassification rate and cost function value at each weight in your history)."
   ]
  },
  {
   "cell_type": "code",
   "execution_count": 19,
   "metadata": {
    "collapsed": true
   },
   "outputs": [],
   "source": [
    "# load in dataset\n",
    "data = np.loadtxt('breast_cancer_data.csv',delimiter = ',')\n",
    "\n",
    "# form the input/output data vectors\n",
    "x = data[:,:-1]\n",
    "y = data[:,-1:]"
   ]
  },
  {
   "cell_type": "code",
   "execution_count": 20,
   "metadata": {
    "collapsed": true
   },
   "outputs": [],
   "source": [
    "# import plotting library and other necessities\n",
    "import matplotlib.pyplot as plt\n",
    "from matplotlib import gridspec\n",
    "import copy\n",
    "\n",
    "# our plotting function\n",
    "def plot_history(x,y,weight_history):\n",
    "    '''\n",
    "    A module for computing / plotting the cost and misclassification histories for a given run of gradient descent.\n",
    "    Here the input should be the data and weight history from a gradient descent run\n",
    "    '''\n",
    "    \n",
    "    # local copies of the softmax cost function written more compactly, for scoping issues\n",
    "    softmax = lambda w: np.sum(np.log(1 + np.exp((-y)*(w[0] + np.dot(x,w[1:])))))\n",
    "    count = lambda w: 0.25*sum((np.sign(w[0] + np.dot(x,w[1:])) - y)**2)\n",
    "    \n",
    "    # initialize figure\n",
    "    fig = plt.figure(figsize = (9,3))\n",
    "\n",
    "    # create subplot with 3 panels, plot input function in center plot\n",
    "    gs = gridspec.GridSpec(1, 2) \n",
    "    ax1 = plt.subplot(gs[0]); \n",
    "    ax2 = plt.subplot(gs[1]);\n",
    "    \n",
    "    # loop over input weight history and create associated cost and misclassification histories\n",
    "    cost_history = []\n",
    "    count_history = []\n",
    "    for weight in weight_history:\n",
    "        cost_val = softmax(weight)\n",
    "        cost_history.append(cost_val)\n",
    "        \n",
    "        count_val = count(weight)\n",
    "        count_history.append(count_val)\n",
    "        \n",
    "    # now plot each, one per panel\n",
    "    ax1.plot(cost_history)  \n",
    "    ax1.set_xlabel('iteration')\n",
    "    ax1.set_ylabel('cost function val')\n",
    "    ax1.set_title('cost function history')\n",
    "    \n",
    "    ax2.plot(count_history)\n",
    "    ax2.set_xlabel('iteration')\n",
    "    ax2.set_ylabel('misclassifications')\n",
    "    ax2.set_title('number of misclassificaions')\n",
    "    \n",
    "    plt.show()\n",
    "    \n",
    "    # find the best misclassification rate in this run of gradient descent and print explicitly\n",
    "    ind_best = np.argmin(count_history)\n",
    "    weight_best = weight_history[ind_best]\n",
    "    count_best = int(count_history[ind_best][0])\n",
    "    print ('the lowest number of misclassifications we achieved from this run was = ' + str(count_best) + ' at step ' + str(ind_best))\n",
    "    \n",
    "    return weight_best"
   ]
  },
  {
   "cell_type": "code",
   "execution_count": 21,
   "metadata": {},
   "outputs": [
    {
     "data": {
      "image/png": "[encoded data removed]",
      "text/plain": [
       "<matplotlib.figure.Figure at 0x7f9315f157f0>"
      ]
     },
     "metadata": {},
     "output_type": "display_data"
    },
    {
     "name": "stdout",
     "output_type": "stream",
     "text": [
      "the lowest number of misclassifications we achieved from this run was = 27 at step 3\n"
     ]
    },
    {
     "data": {
      "text/plain": [
       "array([[ 7.00823701],\n",
       "       [-0.40963702],\n",
       "       [-0.06192713],\n",
       "       [-0.37155399],\n",
       "       [-0.21379551],\n",
       "       [-0.10737125],\n",
       "       [-0.38880796],\n",
       "       [-0.1114369 ],\n",
       "       [-0.15994451]])"
      ]
     },
     "execution_count": 21,
     "metadata": {},
     "output_type": "execute_result"
    }
   ],
   "source": [
    "# our initial weights\n",
    "w_init = np.zeros((9,1))\n",
    "weights_history = newtons_method(softmax, w_init, 10, 1e-7)\n",
    "plot_history(x,y,weights_history)"
   ]
  },
  {
   "cell_type": "markdown",
   "metadata": {},
   "source": [
    "#### <span style=\"color:#a50e3e;\">Exercise 4. </span>   Newton's method and non-convex functions"
   ]
  },
  {
   "cell_type": "markdown",
   "metadata": {},
   "source": [
    "Use Newton's method to minimize \n",
    "\n",
    "\\begin{equation}\n",
    "g(w) = \\text{cos}(w)\n",
    "\\end{equation}\n",
    "\n",
    "beginning at $w = 0.1$.   In particular make sure you achieve decrease at *every* step of Newton's method."
   ]
  },
  {
   "cell_type": "markdown",
   "metadata": {},
   "source": [
    "**Solution** : \n",
    "\n",
    "Since the smallest negative value that $\\frac{d^2g}{dw^2} = -cos(w)$ can have at *any* value of $w$ is $-1$, setting $\\epsilon > 1$ guarantees that we get a decrease at every step of Newton's method.  \n",
    "\n",
    "Note that this is only true if $w_{init}$ is not already a local extremum.  "
   ]
  },
  {
   "cell_type": "code",
   "execution_count": 22,
   "metadata": {},
   "outputs": [
    {
     "data": {
      "image/png": "[encoded data removed]",
      "text/plain": [
       "<matplotlib.figure.Figure at 0x7f9315f157b8>"
      ]
     },
     "metadata": {},
     "output_type": "display_data"
    }
   ],
   "source": [
    "w_init = 0.1\n",
    "weights_history = newtons_method(np.cos, w_init, 10, 1.001)\n",
    "plt.figure()\n",
    "plt.plot(np.cos(weights_history))\n",
    "plt.show()"
   ]
  },
  {
   "cell_type": "markdown",
   "metadata": {},
   "source": [
    "#### <span style=\"color:#a50e3e;\">Exercise 5. </span>   Newton's method and square roots"
   ]
  },
  {
   "cell_type": "markdown",
   "metadata": {},
   "source": [
    "Use Newton's method to compute a square root of the number: 999.  Briefly explain how you set up the relevant cost function that then minimize to obtain this square root."
   ]
  },
  {
   "cell_type": "markdown",
   "metadata": {},
   "source": [
    "**Solution**:\n",
    "\n",
    "To compute the square roots of $999$, we need to find the roots of the polynomial $g(w) = w^2 - 999$. Now, if we assume that there exists a function $G(w)$ such that $g(w) = \\frac{dG}{dw}$, then the roots of $g(w)$ correspond to the extrema of $G(w)$. This means that we can apply Newton's method with $G(w)$ as a cost function to find the roots of $g(w)$. \n",
    "\n",
    "It is obvious that for $g(w) = w^2 - 999$, \n",
    "\\begin{equation}\n",
    "    G(w) = \\frac{w^3}{3} - 999w + constant\n",
    "\\end{equation}"
   ]
  },
  {
   "cell_type": "code",
   "execution_count": 25,
   "metadata": {},
   "outputs": [
    {
     "data": {
      "image/png": "[encoded data removed]",
      "text/plain": [
       "<matplotlib.figure.Figure at 0x7f933433d668>"
      ]
     },
     "metadata": {},
     "output_type": "display_data"
    }
   ],
   "source": [
    "G = lambda w: w**3 / 3 - 999*w\n",
    "w_test = np.linspace(-50, 50, 100)\n",
    "plt.figure()\n",
    "plt.plot(w_test, G(w_test))\n",
    "plt.show()"
   ]
  },
  {
   "cell_type": "markdown",
   "metadata": {},
   "source": [
    "As we can see in the figure above, $G(w)$ has two extrema and an inflexion point at $w=0$. Setting $\\epsilon=1e-7$ is sufficient to ameliorate the divide-by-zero error at the inflexion point. We should note also that since $G(w)$ has only three roots, it cannot have more than two extrema. \n",
    "\n",
    "Now, to verify that the roots are calculated correctly for different starting values of $w_init$, I choose 50 random points between $-1000$ and $1000$ for the initial value, then run Newton's method. In the cell below, I calculate the roots, and show that, minus some small floating point differences, the roots of $g(w)$ are {-31.06, 31.06}."
   ]
  },
  {
   "cell_type": "code",
   "execution_count": 26,
   "metadata": {},
   "outputs": [
    {
     "name": "stdout",
     "output_type": "stream",
     "text": [
      "Unique values of the root w are  [-31.60696126 -31.60696126  31.60696126  31.60696126]\n",
      "To verify, I calculate the unique values of w_final^2 :  [ 999.  999.]\n"
     ]
    }
   ],
   "source": [
    "w_init = np.random.randint(-1000,1000,50)\n",
    "w_final = []\n",
    "for w in w_init:\n",
    "    w_hist = newtons_method(G, w, 10, 1e-7)\n",
    "    w_final.append(w_hist[-1])\n",
    "print(\"Unique values of the root w are \", np.unique(w_final))\n",
    "print(\"To verify, I calculate the unique values of w_final^2 : \", np.unique(np.square(w_final)))\n"
   ]
  },
  {
   "cell_type": "code",
   "execution_count": null,
   "metadata": {
    "collapsed": true
   },
   "outputs": [],
   "source": []
  }
 ],
 "metadata": {
  "anaconda-cloud": {},
  "kernelspec": {
   "display_name": "Python 3",
   "language": "python",
   "name": "python3"
  },
  "language_info": {
   "codemirror_mode": {
    "name": "ipython",
    "version": 3
   },
   "file_extension": ".py",
   "mimetype": "text/x-python",
   "name": "python",
   "nbconvert_exporter": "python",
   "pygments_lexer": "ipython3",
   "version": "3.6.3"
  },
  "toc": {
   "colors": {
    "hover_highlight": "#DAA520",
    "navigate_num": "#000000",
    "navigate_text": "#333333",
    "running_highlight": "#FF0000",
    "selected_highlight": "#FFD700",
    "sidebar_border": "#EEEEEE",
    "wrapper_background": "#FFFFFF"
   },
   "moveMenuLeft": true,
   "nav_menu": {
    "height": "30px",
    "width": "252px"
   },
   "navigate_menu": true,
   "number_sections": false,
   "sideBar": true,
   "threshold": 4,
   "toc_cell": false,
   "toc_section_display": "block",
   "toc_window_display": false,
   "widenNotebook": false
  }
 },
 "nbformat": 4,
 "nbformat_minor": 2
}
